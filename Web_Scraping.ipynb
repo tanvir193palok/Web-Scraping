{
  "nbformat": 4,
  "nbformat_minor": 0,
  "metadata": {
    "colab": {
      "provenance": []
    },
    "kernelspec": {
      "name": "python3",
      "display_name": "Python 3"
    },
    "language_info": {
      "name": "python"
    }
  },
  "cells": [
    {
      "cell_type": "code",
      "execution_count": null,
      "metadata": {
        "id": "rg9tNYLgCJei"
      },
      "outputs": [],
      "source": [
        "import requests\n",
        "from bs4 import BeautifulSoup\n",
        "import os\n",
        "import time\n",
        "import pandas as pd\n",
        "import re"
      ]
    },
    {
      "cell_type": "code",
      "source": [
        "pip install selenium\n"
      ],
      "metadata": {
        "id": "d19yQWhZSKjQ"
      },
      "execution_count": null,
      "outputs": []
    },
    {
      "cell_type": "code",
      "source": [
        "excel_file = '/content/New York TImes.xlsx'"
      ],
      "metadata": {
        "id": "vuQ769cemx5o"
      },
      "execution_count": null,
      "outputs": []
    },
    {
      "cell_type": "code",
      "source": [
        "\n",
        "df = pd.read_excel(excel_file)\n",
        "\n",
        "dates = []\n",
        "bodies = []\n",
        "processed_count = 0\n",
        "\n",
        "links = df['Link'].tolist()"
      ],
      "metadata": {
        "id": "DgrCqWRHmofm"
      },
      "execution_count": null,
      "outputs": []
    },
    {
      "cell_type": "code",
      "source": [
        "print(links)"
      ],
      "metadata": {
        "colab": {
          "base_uri": "https://localhost:8080/"
        },
        "id": "fOUGDwM1nRFz",
        "outputId": "d3c6ddab-eb81-4d22-8b3a-ca93cacb849b"
      },
      "execution_count": null,
      "outputs": [
        {
          "output_type": "stream",
          "name": "stdout",
          "text": [
            "['https://www.nytimes.com/2023/06/25/climate/bangladesh-water-floods.html', 'https://www.nytimes.com/2023/06/18/climate/coal-electricity-bangladesh.html', 'https://www.nytimes.com/article/cyclone-mocha-bangladesh-myanmar.html', 'https://www.nytimes.com/2023/09/25/world/asia/bangladesh-dengue-fever-outbreak.html', 'https://www.nytimes.com/2023/05/15/world/asia/cyclone-mocha-bangladesh-myanmar.html', 'https://www.nytimes.com/2022/06/24/world/asia/sylhet-bangladesh-floods.html', 'https://www.nytimes.com/2022/04/08/climate/weather-warnings-climate-change.html', 'https://www.nytimes.com/2021/07/28/world/asia/bangladesh-rohingya-flood.html', 'https://www.nytimes.com/2021/03/10/opinion/biden-child-poverty-bangladesh.html', 'https://www.nytimes.com/2020/07/30/climate/bangladesh-floods.html', 'https://www.nytimes.com/2020/05/19/world/asia/cyclone-amphan-bangladesh-india.html', 'https://www.nytimes.com/2020/05/20/world/asia/cyclone-amphan-india-bangladesh-map.html', 'https://www.nytimes.com/2020/05/20/world/asia/cyclone-amphan-india-bangladesh.html', 'https://www.nytimes.com/2020/02/19/opinion/survive-disaster-plan-for-worst.html', 'https://www.nytimes.com/interactive/2019/04/11/magazine/climate-change-bangladesh-scavenging.html', 'https://www.nytimes.com/2019/05/22/world/asia/bangladesh-fishing-ban.html', 'https://www.nytimes.com/2019/05/02/world/asia/india-cyclone-fani.html', 'https://www.nytimes.com/2018/01/19/opinion/sunday/climate-change-bangladesh.html', 'https://www.nytimes.com/2018/03/14/climate/bangladesh-rohingya-refugee-camp.html', 'https://www.nytimes.com/2017/09/01/opinion/bangladesh-floods.html', 'https://www.nytimes.com/video/world/asia/100000005429536/floating-schools-in-bangladesh-floods.html', 'https://www.nytimes.com/2016/10/04/opinion/in-rural-bangladesh-solar-power-dents-poverty.html', 'https://www.nytimes.com/interactive/2023/05/20/climate/rice-farming-climate-change.html', 'https://www.nytimes.com/2023/07/03/climate/cash-disaster-relief.html', 'https://www.nytimes.com/2023/06/27/climate/economic-growth-environment-conservation.html', 'https://www.nytimes.com/2023/08/14/world/asia/india-temple-landslide-monsoon.html', 'https://www.nytimes.com/2023/05/23/climate/rice.html', 'https://www.nytimes.com/2023/06/18/briefing/blinken-beijing-qin-ukraine-asia.html', 'https://www.nytimes.com/2022/05/22/world/asia/flooding-india-bangladesh.html', 'https://www.nytimes.com/2022/06/14/world/asia/india-south-asia-climate-change.html', 'https://www.nytimes.com/interactive/2022/10/26/magazine/climate-change-warming-world.html', 'https://www.nytimes.com/interactive/2022/10/04/climate/south-asia-monsoon-climate-change.html', 'https://www.nytimes.com/live/2022/11/07/climate/cop27-climate-summit', 'https://www.nytimes.com/2022/05/22/briefing/australia-election-albanese-asia.html', 'https://www.nytimes.com/2022/04/08/climate/air-pollution-cities-tropics.html', 'https://www.nytimes.com/2022/11/10/climate/biden-cop27-climate-reparations.html', 'https://www.nytimes.com/2022/07/01/world/asia/india-landslide-floods-manipur.html', 'https://www.nytimes.com/2022/10/31/health/cholera-outbreaks-vaccine.html', 'https://www.nytimes.com/2021/04/20/climate/coal-climate-change.html', 'https://www.nytimes.com/2021/05/20/climate/storms-floods-wildfires-displacement.html', 'nytimes.com/2021/08/19/opinion/climate-un-report-greta-thunberg.html', 'https://www.nytimes.com/2021/11/13/climate/cop26-glasgow-climate-agreement.html', 'https://www.nytimes.com/2021/11/12/climate/glasgow-climate-cop26.html', 'https://www.nytimes.com/live/2021/11/13/climate/cop26-glasgow-climate-summit', 'https://www.nytimes.com/2021/11/01/world/europe/cop26-glasgow-biden-climate.html', 'https://www.nytimes.com/2021/07/20/magazine/gmos.html', 'https://www.nytimes.com/2021/10/10/world/asia/bangladesh-rohingya-bhashan-char.html', 'https://www.nytimes.com/2020/05/23/climate/climate-change-coronavirus.html', 'https://www.nytimes.com/interactive/2020/12/16/magazine/russia-climate-migration-crisis.html', 'https://www.nytimes.com/2020/04/05/world/asia/nepal-himalayas-glacier-climate.html', 'https://www.nytimes.com/2020/01/19/business/economy/global-shapers-davos.html', 'https://www.nytimes.com/2019/05/06/science/tigers-climate-change-sundarbans.html', 'https://www.nytimes.com/2019/09/07/books/amitav-ghosh-gun-island-climate-change.html', 'https://www.nytimes.com/2019/09/12/climate/extreme-weather-displacement.html', 'https://www.nytimes.com/2019/12/23/arts/design/shahidul-alam-rubin-museum.html', 'https://www.nytimes.com/2019/07/15/world/asia/rains-nepal-india-flooding.html', 'https://www.nytimes.com/2019/08/15/climate/coal-adani-india-australia.html', 'https://www.nytimes.com/2018/09/21/climate/climate-change-adaptation.html', 'https://www.nytimes.com/interactive/2018/06/28/climate/india-pakistan-warming-hotspots.html', 'https://www.nytimes.com/interactive/2018/08/30/climate/how-much-hotter-is-your-hometown.html', 'https://www.nytimes.com/2018/03/29/climate/united-nations-climate-change.html', 'https://www.nytimes.com/interactive/2018/08/01/magazine/climate-change-losing-earth.html', 'https://www.nytimes.com/2018/05/23/climate/rice-global-warming.html', 'https://www.nytimes.com/2017/08/29/world/asia/floods-south-asia-india-bangladesh-nepal-houston.html', 'https://www.nytimes.com/2017/11/13/climate/climate-coal-united-nations-bonn.html', 'https://www.nytimes.com/interactive/2017/11/16/climate/alliance-phase-out-coal.html', 'https://www.nytimes.com/2017/09/07/world/asia/bihar-india-monsoon-floods.html', 'https://www.nytimes.com/interactive/2016/12/09/science/mapping-three-decades-of-global-water-change.html', 'https://archive.nytimes.com/opinionator.blogs.nytimes.com/2015/11/17/in-bangladesh-a-half-century-of-saving-lives-with-data/', 'https://www.nytimes.com/2015/04/25/opinion/sunday/how-i-got-converted-to-gmo-food.html', 'https://www.nytimes.com/2023/09/29/health/mosquitoes-malaria-disease-climate-change.html', 'https://www.nytimes.com/2023/09/23/us/saltwater-mississippi-new-orleans.html', 'https://www.nytimes.com/interactive/2023/05/09/magazine/hurricane-saildrone.html', 'https://www.nytimes.com/2023/08/16/opinion/maui-fire-lahaina-hawaii.html', 'https://www.nytimes.com/2023/05/05/climate/legal-rights-of-nature.html', 'https://www.nytimes.com/2022/04/10/world/asia/sundarbans-mangroves-india-bangladesh.html', 'https://www.nytimes.com/2022/11/06/climate/loss-and-damage-climate-cop27.html', 'https://www.nytimes.com/2022/08/04/sports/cricket/cricket-climate-change-sustainable.html', 'https://www.nytimes.com/2022/09/13/climate/king-charles-climate.html', 'https://www.nytimes.com/2022/09/07/opinion/environment/pakistan-climate-change-floods.html', 'https://www.nytimes.com/2022/09/14/opinion/environment/china-climate-change-heat-drought.html', 'https://www.nytimes.com/2022/09/19/climate/esther-duflo-climate-crisis.html', 'https://www.nytimes.com/interactive/2022/10/28/opinion/climate-change-bret-stephens.html', 'https://www.nytimes.com/2022/07/01/climate/biden-climate-agenda-global.html', 'https://www.nytimes.com/2022/10/06/opinion/climate-coal-renewable-energy.html', 'https://www.nytimes.com/interactive/2022/11/18/world/middleeast/extreme-heat.html', 'https://www.nytimes.com/2022/08/03/opinion/floods-climate-summer-kentucky.html', 'https://www.nytimes.com/2022/10/27/climate/global-clean-energy-iea.html', 'https://www.nytimes.com/2022/07/14/opinion/environment/heat-waves-india-pakistan-climate-change.html', 'https://www.nytimes.com/2022/09/13/opinion/environment/bill-gates-climate-change-report.html', 'https://www.nytimes.com/2022/11/21/climate/saudi-arabia-aramco-oil-solar-climate.html', 'https://www.nytimes.com/2022/11/07/climate/michael-bloomberg-announces-a-new-initiative-to-phase-out-coal-in-25-countries.html', 'https://www.nytimes.com/2022/03/10/climate/climate-oil-crisis-global.html', 'https://www.nytimes.com/2022/08/10/opinion/europe-energy-crisis-ukraine.html', 'https://www.nytimes.com/2022/10/15/opinion/oil-energy-crisis-van-gogh.html', 'https://www.nytimes.com/2022/04/05/opinion/ukraine-war-food-crisis.html', 'https://www.nytimes.com/2022/05/17/climate/michael-bloomberg-climate-coal.html', 'https://www.nytimes.com/2022/07/22/climate/air-conditioning.html', 'https://www.nytimes.com/2021/11/11/climate/climate-glasgow-cop26-loss-damage.html', 'https://www.nytimes.com/2021/08/09/climate/climate-change-UN-report.html', 'https://www.nytimes.com/2020/07/30/climate/sea-level-inland-floods.html', 'https://www.nytimes.com/2021/11/01/world/europe/climate-conference-kicks-off-in-glasgow-with-floods-and-low-expectations.html', 'https://www.nytimes.com/2021/01/07/climate/2020-disaster-costs.html', 'https://www.nytimes.com/2021/07/17/climate/heatwave-weather-hot.html', 'https://www.nytimes.com/2021/06/23/magazine/climate-change-impact-bahamas.html', 'https://www.nytimes.com/2021/11/03/climate/climate-summit-finance-glasgow.html', 'https://www.nytimes.com/article/climate-change-global-warming-faq.html', 'https://www.nytimes.com/2021/11/10/climate/climate-cop26-glasgow.html', 'https://www.nytimes.com/2021/09/17/opinion/climate-change-environment.html', 'https://www.nytimes.com/live/2021/11/01/world/cop26-climate-change-summit', 'https://www.nytimes.com/live/2021/11/12/climate/cop26-glasgow-climate-summit', 'https://www.nytimes.com/2021/09/21/climate/china-power-plants-coal.html', 'https://www.nytimes.com/2021/09/27/nyregion/safeguarding-the-city-against-extreme-weather.html', 'https://www.nytimes.com/live/2021/09/21/world/un-general-assembly', 'https://www.nytimes.com/2021/06/24/magazine/cargo-ships-emissions.html', 'https://www.nytimes.com/live/2021/07/17/world/europe-flooding-germany', 'https://www.nytimes.com/2021/10/31/climate/g20-coal.html', 'https://www.nytimes.com/2021/09/24/world/europe/german-election-climate-action.html', 'https://www.nytimes.com/live/2021/11/11/climate/cop26-glasgow-climate-summit', 'https://www.nytimes.com/interactive/2021/11/12/climate/cop26-emissions-compensation.html', 'https://www.nytimes.com/2020/09/22/climate/climate-change-future.html', 'https://www.nytimes.com/interactive/2020/04/19/climate/climate-crash-course-1.html', 'https://www.nytimes.com/interactive/2020/07/23/magazine/climate-migration.html', 'https://www.nytimes.com/2020/11/25/climate/john-kerry-climate.html', 'https://www.nytimes.com/2020/11/04/climate/paris-agreement-us-election.html', 'https://www.nytimes.com/2020/08/26/world/asia/afghanistan-floods-charikar.html', 'https://www.nytimes.com/2020/11/25/world/asia/india-cyclone-nivar.html', 'https://www.nytimes.com/2020/10/23/world/asia/vietnam-floods.html', 'https://www.nytimes.com/2020/09/15/us/politics/fires-trump-biden-suburbs.html', 'https://www.nytimes.com/2019/11/05/opinion/climate-change-economics.html', 'https://www.nytimes.com/interactive/2019/04/09/magazine/climate-change-capitalism.html', 'https://www.nytimes.com/2019/09/21/climate/agriculture-climate-change.html', 'https://www.nytimes.com/2019/11/10/climate/mary-robinson-maeve-higgins-thimali-kodikara-podcast.html', 'https://www.nytimes.com/2019/05/12/climate/mozambique-climate-change-protection.html', 'https://www.nytimes.com/2019/08/17/opinion/iceland-glacier-climate-change.html', 'https://www.nytimes.com/interactive/2019/08/06/climate/world-water-stress.html', 'https://www.nytimes.com/2019/04/20/world/africa/mozambique-cyclone.html', 'https://www.nytimes.com/2019/04/30/climate/these-five-cuisines-are-easier-on-the-planet.html', 'https://www.nytimes.com/2018/08/04/insider/photographing-climate-change.html', 'https://www.nytimes.com/2018/12/12/climate/climate-change-floods-droughts.html', 'https://www.nytimes.com/2018/10/07/climate/ipcc-climate-report-2040.html', 'https://www.nytimes.com/2018/07/31/climate/the-city-of-my-birth-in-india-is-becoming-a-climate-casualty-it-didnt-have-to-be.html', 'https://www.nytimes.com/2018/06/29/opinion/sunday/immigration-climate-change-trump.html', 'https://www.nytimes.com/2018/08/06/books/review/william-t-vollmann-carbon-ideologies-no-immediate-danger-no-good-alternative.html', 'https://www.nytimes.com/2018/12/15/climate/cop24-katowice-climate-summit.html', 'https://www.nytimes.com/2018/10/05/climate/rain-floods-extreme-weather.html', 'https://www.nytimes.com/interactive/2018/02/24/us/jean-lafitte-floodwaters.html', 'https://www.nytimes.com/2018/10/03/climate/rolling-back-regulations-and-arctic-sea-ice-keeps-melting.html', 'https://www.nytimes.com/2017/05/26/climate/global-warming-sleep-loss.html', 'https://www.nytimes.com/2017/08/31/opinion/harvey-climate-global-cities.html', 'https://www.nytimes.com/2017/04/01/us/a-voice-from-paris-on-climate-change.html', 'https://www.nytimes.com/2017/01/06/opinion/sunday/as-donald-trump-denies-climate-change-these-kids-die-of-it.html', 'https://www.nytimes.com/2017/11/02/climate/trump-coal-cop23-bonn.html', 'https://www.nytimes.com/2017/11/22/books/review-water-will-come-jeff-goodell.html', 'https://www.nytimes.com/2017/10/16/business/energy-environment/liquified-natural-gas-world-markets.html', 'https://www.nytimes.com/2017/06/15/opinion/sunday/remember-the-population-bomb-its-still-ticking.html', 'https://www.nytimes.com/2017/04/20/opinion/a-lesson-on-warming-from-an-icy-river.html', 'https://www.nytimes.com/2017/01/27/world/australia/climate-change-floating-islands.html', 'https://www.nytimes.com/2017/07/01/climate/china-energy-companies-coal-plants-climate-change.html', 'https://www.nytimes.com/2017/08/31/opinion/hurricanes-climate-capitalists-wealth-.html', 'https://archive.nytimes.com/dotearth.blogs.nytimes.com/2016/02/23/bill-gates-the-impatient-optimist-lays-out-his-clean-energy-innovation-agenda/', 'https://www.nytimes.com/2015/09/30/business/getting-to-100-billion-in-climate-change-aid.html', 'https://www.nytimes.com/interactive/projects/cp/climate/2015-paris-climate-talks/indian-activists-say-climate-solutions-must-consider-indias-need-to-grow', 'https://www.nytimes.com/interactive/2015/12/02/world/The-Marshall-Islands-Are-Disappearing.html', 'https://www.nytimes.com/2015/01/15/science/earth/new-research-may-solve-a-puzzle-in-sea-levels-rise.html', 'https://www.nytimes.com/interactive/2015/10/27/world/greenland-is-melting-away.html', 'https://www.nytimes.com/2015/03/17/science/the-new-optimism-of-al-gore.html', 'https://www.nytimes.com/2015/09/13/opinion/sunday/the-next-genocide.html']\n"
          ]
        }
      ]
    },
    {
      "cell_type": "code",
      "source": [
        "##For most of the Washington Post news page\n",
        "\n",
        "def WebScrapping(url):\n",
        "    page = requests.get(url)\n",
        "    soup = BeautifulSoup(page.content, 'html.parser')\n",
        "    date_element = soup.find(class_=\"wpds-c-iKQyrV\")\n",
        "    date = date_element.get_text() if date_element else \"No Date\"\n",
        "\n",
        "    titles = soup.find_all(class_='article-body')\n",
        "\n",
        "    paragraphs = []\n",
        "\n",
        "    for title in titles:\n",
        "        p_tag = title.find('p')\n",
        "\n",
        "        if p_tag:\n",
        "            paragraphs.append(p_tag.get_text())\n",
        "\n",
        "    body_content = '\\n'.join(paragraphs) if paragraphs else \"No Body Content\"\n",
        "\n",
        "    return date, body_content\n"
      ],
      "metadata": {
        "id": "SegO1jgxNYp6"
      },
      "execution_count": null,
      "outputs": []
    },
    {
      "cell_type": "code",
      "source": [
        "# def WebScrappingNYT(url):\n",
        "#     page = requests.get(url)\n",
        "#     soup = BeautifulSoup(page.content, 'html.parser')\n",
        "#     # date_element = soup.find(class_=\"wpds-c-iKQyrV\")\n",
        "#     # date = date_element.get_text() if date_element else \"No Date\"\n",
        "\n",
        "#     titles = soup.find_all('div', class_='css-s99gbd StoryBodyCompanionColumn')\n",
        "\n",
        "#     paragraphs = []\n",
        "\n",
        "#     for title in titles:\n",
        "#         body_div = title.find('div', class_='css-53u6y8')\n",
        "#         p_tag = body_div.find_all('p', class_='css-at9mc1 evys1bk0')\n",
        "\n",
        "#         if p_tag:\n",
        "#             body_text = '\\n\\n'.join([p.get_text() for p in body])\n",
        "\n",
        "\n",
        "#     return body_text"
      ],
      "metadata": {
        "id": "b-4SkelaT5U2"
      },
      "execution_count": null,
      "outputs": []
    },
    {
      "cell_type": "code",
      "source": [
        "def WebScrappingNYT(url):\n",
        "    page = requests.get(url)\n",
        "    soup = BeautifulSoup(page.content, 'html.parser')\n",
        "\n",
        "    titles = soup.find_all(class_='css-s99gbd StoryBodyCompanionColumn')\n",
        "\n",
        "    paragraphs = []\n",
        "\n",
        "    for title in titles:\n",
        "        body_div = title.find('div', class_='css-53u6y8')\n",
        "        p_tags = body_div.find_all('p', class_='css-at9mc1 evys1bk0')\n",
        "\n",
        "        if p_tags:\n",
        "          for p in p_tags:\n",
        "              paragraphs.append(p.get_text())\n",
        "\n",
        "    body_content = '\\n'.join(paragraphs) if paragraphs else \"No Body Content\"\n",
        "\n",
        "    return body_content\n"
      ],
      "metadata": {
        "id": "5O5qLqq7XKNr"
      },
      "execution_count": null,
      "outputs": []
    },
    {
      "cell_type": "code",
      "source": [
        "url = \"https://www.washingtonpost.com/climate-solutions/interactive/2021/amsterdam-floating-houses-schoonschip/\"\n",
        "page = requests.get(url)\n",
        "soup = BeautifulSoup(page.content, 'html.parser')\n",
        "print(soup.prettify())\n",
        "\n",
        "titles = soup.find_all(class_='css-53u6y8')\n",
        "\n",
        "paragraphs = []\n",
        "\n",
        "for title in titles:\n",
        "        p_tag = title.find_all('p')\n",
        "\n",
        "\n",
        "#         if len(p_tag) >0:\n",
        "#           for p in p_tag:\n",
        "#             paragraphs.append(p.get_text())\n",
        "\n",
        "# body_content = '\\n'.join(paragraphs) if paragraphs else \"No Body Content\"\n",
        "\n",
        "# print(body_content)"
      ],
      "metadata": {
        "id": "9h8LiYsjII3b"
      },
      "execution_count": null,
      "outputs": []
    },
    {
      "cell_type": "code",
      "source": [
        "print(titles)"
      ],
      "metadata": {
        "colab": {
          "base_uri": "https://localhost:8080/"
        },
        "id": "NfgjFqj4I6Vh",
        "outputId": "900ae68f-1521-44b2-d803-dd41f9467fd4"
      },
      "execution_count": null,
      "outputs": [
        {
          "output_type": "stream",
          "name": "stdout",
          "text": [
            "[]\n"
          ]
        }
      ]
    },
    {
      "cell_type": "code",
      "source": [
        "##Manual way\n",
        "\n",
        "def WebScrappingManual(url):\n",
        "    page = requests.get(url)\n",
        "    soup = BeautifulSoup(page.content, 'html.parser')\n",
        "\n",
        "    body = soup.find_all('p', class_='css-at9mc1 evys1bk0')\n",
        "    body_text = '\\n\\n'.join([p.get_text() for p in body])\n",
        "\n",
        "    return body_text"
      ],
      "metadata": {
        "id": "GapcMb47FLiK"
      },
      "execution_count": 32,
      "outputs": []
    },
    {
      "cell_type": "code",
      "source": [
        "print(WebScrappingManual('https://www.washingtonpost.com/news/posteverything/wp/2019/05/02/feature/the-green-new-deal-isnt-too-big-its-not-nearly-big-enough/'))"
      ],
      "metadata": {
        "colab": {
          "base_uri": "https://localhost:8080/"
        },
        "id": "hzvsTwNZGKmi",
        "outputId": "a63e52f4-b11d-4c9d-f073-db62256b5036"
      },
      "execution_count": 36,
      "outputs": [
        {
          "output_type": "stream",
          "name": "stdout",
          "text": [
            "\n"
          ]
        }
      ]
    },
    {
      "cell_type": "code",
      "source": [
        "# Function to count words in a text\n",
        "def count_words(text):\n",
        "    words = re.findall(r'\\b\\w+\\b', text)\n",
        "    return len(words)"
      ],
      "metadata": {
        "id": "DCBEzond9Q0e"
      },
      "execution_count": null,
      "outputs": []
    },
    {
      "cell_type": "code",
      "source": [
        "text = \"\"\"SCHOONSCHIP, Amsterdam — Marjan de Blok readjusts her body weight as she treads across the jetties linking a floating community on the River IJ. Her cheeks and nose are elfin red from the whipping winds. She shouts greetings to many of her neighbors, her voice carried by the water all around. In October, heavy rains, hail and 50 mile-an-hour winds put Amsterdam on alert, just a short ferry ride away. But in the northern neighborhood of Schoonschip, life carried on mostly as usual. De Blok visited with neighbors to gossip and get updates on the local smart grid — which enables residents to generate and share energy with each other and the country — all while overhead lamps swayed and the homes glided up and down their steel foundational poles with the movement of the waters below. “It feels like living at the beach, with the water, the saltiness of the air and the seagulls,” she says. “But it also feels special because, initially, we were told that building your own neighborhood, it’s just impossible.” De Blok, 43, is a Dutch reality TV director by day and guerrilla sustainable commune organizer by night. She and her neighbors quickly adapted to life on water — proving, she says, that the technology already exists to make floating urban development a solution for the world’s densely populated waterfront cities that are grappling with rising sea levels and the accelerating impacts of climate change. Prince Harry, European lawmakers and a long list of other dignitaries, urban planners, entrepreneurs and citizens have come to Schoonschip in recent years, curious to see the real-life manifestation of a once sci-fi idea. On visitor’s tours, De Blok has showcased Schoonschip’s patchwork of environmentally-focused social projects: lush floating gardens, tended by the residents and beloved by the water birds; a community center featuring floating architecture diagrams; and a nearby on-land vegetable patch bursting with kale in the winter and zucchini and tomatoes in the summer. But the homes’ industrial-chic design and their immediate proximity to the city, De Blok says, is usually what surprises visitors most. It’s intentional, she says, as it helps to distinguish the dwellings from the quirky 10,000 converted barges — known as “houseboats” — that crowd the country’s canals. Schoonschip, boasting modern design for modern lifestyles, seeks to serve as a prototype for the more than 600 million people — 10 percent of the world’s population — who live on or near the water and are already being affected by climate change. In the waterlogged Netherlands — a country that’s a third below sea level and two-thirds flood-prone — floating homes are the latest in a centuries-long experiment in contending with water. Since the Middle Ages, Dutch farmer collectives have united to drain water to make room for agricultural land. The groups evolved into regional water boards that keep the land dry using a complex system of canals, dikes, dams and sea gates. In 2007, the government unveiled a program called Room for the River, allowing certain locations to strategically flood during periods of heavy rain. Water management is such a normal part of Dutch discourse that many citizens are surprised to be asked about it, assuming it is common in every country. Dutch children as young as 4 are taught to swim with their clothes on, to instill “respect for the water,” says Michiel Snijder, De Blok’s partner, who works as a children’s swimming instructor. The Dutch have historically lived on water. As early as the 17th century, foreign tradespeople moored their boats to the land to sell their goods. In the 1960s, artists converted boats into homes to make “houseboat” living a culturally subversive way of opting out of civilization on land. And especially as climate change has warmed the world’s oceans over the past decade, Dutch water management strategists have sought to embrace, rather than resist, the rising sea levels. As part of that shift, floating communities have been emerging across Amsterdam, Rotterdam and Utrecht. These homes that are converted into boats, rather than the other way around, bill themselves as part of a national, and potentially global, solution for a wetter future. Schoonschip, home to about 150 residents that includes some 40 kids, is made up of 46 households located on 30 arks. Half are floating semidetached homes, shared by two families. One has three generations of the same family. They are relatively low-tech, constructed off-site and weighted by basins filled with recycled, water-resistant concrete, then pulled across the water by a tug and moored to the lake bed. Heavy pieces such as pianos are counterweighed with bricks on the opposite side of the house, and interior design is carried out in line with the Dutch principle of gezellig, or “coziness” (think: a Dutch version of hygge), which incorporates soft lighting, modern fixtures and virtually no stylistic references to maritime life. Many rooms are outfitted with modular furniture that can be easily disassembled or reassembled to make room for life changes such as the birth of children or the separation of couples. “Floating homes, you can turn them, flip them, take them with you. The flexibility on water is incomparable with the flexibility on land,” says Sascha Glasl, a resident-architect in Schoonschip. His architectural firm, Space & Matter, designed the community’s jetty system and several of its homes. “It’s evident that sea waters will rise, and that many big cities are really close to that water. It’s amazing that not more of this innovation and building on water is being executed.” De Blok, who has no engineering, architecture or hydrological training, says that she never intended to spearhead a movement in floating urban development. In 2009, she was exhausted by living in Amsterdam. She was working all the time, buying things she used just once or twice and had very little time to meet with friends. She recycled and bought vintage instead of new, but had the creeping feeling that she was being involuntarily made into a passive consumer. On assignment on a cold winter day in 2009, she visited a solar-paneled floating event venue called GeWoonboot as part of a series of short documentaries she was shooting on sustainable living. She was stunned by its contemporary feel, its immediacy to the water and the city, and its incorporation of experimental sustainability practices. “Before I visited that boat, I wasn’t really conscious that I didn’t like the way I was living,” she says. When she asked friends if they had interest in building a floating community, she was unprepared for the deluge of responses. She cut off the list at 120 people, disappointing dozens. She scouted waters around the GeWoonboot neighborhood, known as Buiksloterham, a 100 hectare, postindustrial area that had been largely abandoned since manufacturers — including the Shell oil company and the Fokker airplane factory that built parts for KLM airlines — left the city for lower-wage countries in the second part of the 20th century. “The area was a disaster, really depressing. Just some companies, no streetlights,” De Blok recalls. But when she got a look at the city’s plans to develop tens of thousands of housing units and cultural centers in the area, she thought, “We could be pioneers here.” “Schoonschip” means “clean ship,” which when made into a verb, “to do schoonschip,” means “starting over from scratch.” In Buiksloterham, the 22-story Shell tower has been rebranded as the Amsterdam Dance and Music Tower, with dance clubs, a revolving restaurant and an observation deck. The grassy Overhoeks Promenade, which served as a gallows from the 15th to 18th century, hosts the hulking, modernistic Eye Film Museum. The NDSM wharf is peppered with artist collectives, vintage shops and a luxury hotel atop the world’s tallest harbor crane. De Blok views water as much in engineering as in social terms, especially as densely populated cities such as Amsterdam undergo rapid gentrification, replacing social housing and middle-class neighborhoods with homes for the ultrarich and Airbnbs for tourists. Looking to make Schoonschip something different, she had all residents sign a manifesto committing them to constructing, insulating and finishing their homes with eco-friendly materials such as straw, burlap and bamboo. They also informally signed up for eating together, swimming in their “backyards” together and conducting their lives largely in common view of one another, with curtains only rarely drawn. They share bikes, cars and use a vibrant WhatsApp group to request almost any service or borrow virtually any item from neighbors, which they can have delivered to their doorstep usually within a few minutes. Every Tuesday, many of the residents order two-course vegan meals prepared by a resident-chef, which they often share in each others’ homes. The neighborhood feels like an extended block party mostly because many of the residents are actually de Blok’s friends, or friends of friends, including many colleagues from the TV and entertainment industry. There’s a celebrity talk show host, several heads of content and a podcaster, most of whom joined the project in their 20s and 30s, when they had no kids and ample time to invest in building a community from scratch. Twelve years of bureaucratic struggles later, those young single couples are young families. During the summer months, their children jump out of their bedroom windows directly into the water below. On clear winter nights, the neighborhood gleams with soft lighting and buzzes with the hum of chattering residents, parked out on their top-floor porches where they have a front-row view to the inky water and the starry sky. “When it’s dark and all the lights in the houses are on, it feels like a set from a film,” De Blok says. To realize Schoonschip’s sustainability goals, De Blok needed to draw from its most valuable and multipurpose resource: the residents themselves. Siti Boelen, a Dutch television producer, mediated between the Schoonschip representative committee and the local municipality. Glasl, the architect, helped design the five rows of jetties that connect each house to each other and to the land. Eelke Kingma, a resident and renewable tech expert, joined a community task force that received special permission from the experimental sector of a Dutch electricity company to design the neighborhood’s smart grid system. Residents collect energy from 500 solar panels — placed on roughly a third of the community’s roofs — and from 30 efficient heat pumps that draw from the water below. They then store this energy in enormous batteries located beneath their homes and sell any surplus to each other, as well as to the national grid. Kingma, with parnters, is finishing a new AI-automated program that will use each homes’ smart meters to inform residents when they can earn the most from selling, based on the fluctuations in energy market prices. This would make Schoonschip the first neighborhood in the country to turn a profit from generating energy, Kingma says. It’s made possible by the fact that each home in Schoonschip has five to eight smart meters — most homes in the Netherlands have only one — which constantly track the influx and outflow of the underwater energy storage system. The program is being monitored in collaboration with 15 European companies, universities and institutions, organized by the European Commission, which supports renewable energy experiments in the hopes of scaling them up across the continent. Over the past decade, the floating-house movement has been gaining momentum in the Netherlands. The Dutch government is amending home-owning laws to redefine floating homes as “immovable homes” rather than “boats,” to simplify the process of obtaining permits. “Building on water is considered a kind of blank canvas: due to the lack of existing infrastructure,” reads a research paper that advocates for the amendment to the law. “We foresee that in the near future building on water and floating living in the Netherlands will no longer be a luxury, but an absolute necessity.” Amsterdam and Rotterdam, the Dutch delta city located 90 percent below sea level, are reporting a sharp uptick in requests for permits to build on the water. The trend is coinciding with a national water awareness campaign for an era in which climate change is already a fact of life. The government launched an app called Overstroom Ik?, or Will I flood?, allowing residents to check if their Zip code is at risk of flooding, and supported a traveling pop-up art installation called Waterlicht, or Waterlight, that for six years has been projecting blue lights over New York, Dubai and many other of the world’s largest cities to simulate a virtual flood. In Room for the River program areas, low-lying parks and beaches will feature public awareness campaigns during the non-flood season, highlighting water-related problems and potential solutions. And as they expand, the initiators of Schoonschip and other floating neighborhoods, office buildings and event spaces across the Netherlands are increasingly being consulted for projects across the world. The potential solution has grown in prominence as sea levels are forecast to rise 3 to 5 feet this century, and storms are expected to increase in frequency and intensity. Last summer, at least 220 people died in Germany and Belgium from a once-in-400-year rain event. In China, nearly 8 inches of rain fell in one hour. New York City recorded its fifth wettest day on record. Rivers submerged parts of Tennessee that were not previously considered floodplains. By the end of this century, the kind of intense precipitation events that would typically occur two times per century will occur twice as often, and events that would occur once every 200 years would become four times as frequent, according to research published in August by a team of water experts led by hydrologist Manuela Brunner. Marthijn Pool, the co-founder of Space & Matter, has been among the growing number of Dutch architects exporting their knowledge in floating architecture to the United States. Pool says that land-scarce New York is especially ripe for floating development, and that awareness of the need for innovative solutions has grown in the aftermath of Hurricane Sandy, which inundated New York City with waves as high as 14 feet in 2012. Space & Matter is planning to build a research and development center in an area off Red Hook, with hulls designed to promote kelp oysters underneath. They are also showcasing designs for a second residential project, similar to Schoonschip, in Washington, D.C., which Pool hopes can set an example for stormproofing waterfront communities, as well as create an economic incentive for floating architecture. “Water is relatively cheap, you don’t need to put sewage in the sidewalks and if you can make your own grid, then you’re able to provide your own infrastructure,” says Pool, adding that the homes can save cities billions of dollars in damages since they can withstand high levels of precipitation, simply moving up when waters rush in and descending to their original position when waters recede. He says that sewage, if connected to an independent sustainable sanitation system like that being developed by Schoonschip, can be separated and used for irrigating plants. Koen Olthuis, an architect with the floating architectural firm Waterstudio, which designed several of the houses in Schoonschip and in the nearby floating Amsterdam neighborhood of Ijburg, says that an increase in organizations and governments looking to adapt to climate change has introduced floating projects to places that may need it most. In 2013, his firm sent a floating, Internet-connected converted cargo container, called “City App,” to the Korail Bosti slum of Dhaka, Bangladesh, where children used the space during the day to attend remote classes, and adults used it to develop business projects at night. In 2019, the vessel was relocated to a slum near Alexandria, Egypt, where it remains stationed. He says that the project, along with his firm’s luxury floating villas built in countries like the United Arab Emirates, are paving the way to mainstream the concept of floating mobile floating homes, by which homes could unmoor from lakebeds for calmer waters in the case of extreme flooding or even unpleasant weather. “We want to upgrade cities near the water,” he says. “Now we’re at a tipping point where it’s actually happening. We’re getting requests from all over the world.” After two decades of planning, his firm will oversee construction on a new 200-hectare lagoon off Male, the capital of the Maldives. The city sits less than three feet above sea level, making it vulnerable to even the slightest rise. The small, simply designed housing complex, priced at around 10-15 percent more than comparable houses on land, is intended for 20,000 people. It will have water pumps that draw energy from deep-sea water, a water-based city grid and homes with artificial coral-clad hulls to encourage marine life. “Today, we can see how cities are performing with floods, extreme weather, urbanization,” says Olthuis, adding that the initial Dutch projects and now-international iterations are showing that “we can cope with the challenges of sea level rises.” In Schoonschip, De Blok says that she hopes everyone will have the opportunity to live on water one day. “It does something to you, being aware that under your house everything is moving,” she says. “There’s some magic to it.”\n",
        "\"\"\"\n",
        "\n",
        "print(count_words(text))"
      ],
      "metadata": {
        "colab": {
          "base_uri": "https://localhost:8080/",
          "height": 210
        },
        "id": "PVFUgBpvJGC_",
        "outputId": "d72b11ed-a85b-44c6-edd0-724aebba4b98"
      },
      "execution_count": 34,
      "outputs": [
        {
          "output_type": "error",
          "ename": "NameError",
          "evalue": "ignored",
          "traceback": [
            "\u001b[0;31m---------------------------------------------------------------------------\u001b[0m",
            "\u001b[0;31mNameError\u001b[0m                                 Traceback (most recent call last)",
            "\u001b[0;32m<ipython-input-34-3d5b01b3f0d3>\u001b[0m in \u001b[0;36m<cell line: 4>\u001b[0;34m()\u001b[0m\n\u001b[1;32m      2\u001b[0m \"\"\"\n\u001b[1;32m      3\u001b[0m \u001b[0;34m\u001b[0m\u001b[0m\n\u001b[0;32m----> 4\u001b[0;31m \u001b[0mprint\u001b[0m\u001b[0;34m(\u001b[0m\u001b[0mcount_words\u001b[0m\u001b[0;34m(\u001b[0m\u001b[0mtext\u001b[0m\u001b[0;34m)\u001b[0m\u001b[0;34m)\u001b[0m\u001b[0;34m\u001b[0m\u001b[0;34m\u001b[0m\u001b[0m\n\u001b[0m",
            "\u001b[0;31mNameError\u001b[0m: name 'count_words' is not defined"
          ]
        }
      ]
    },
    {
      "cell_type": "code",
      "source": [
        "# def WebScrapping(url):\n",
        "#     page = requests.get(url)\n",
        "#     soup = BeautifulSoup(page.content, 'html.parser')\n",
        "#     date = soup.find(class_=\"wpds-c-iKQyrV\")\n",
        "#     print(date.get_text())\n",
        "#     titles = soup.find_all(class_='article-body')\n",
        "\n",
        "#     paragraphs = []\n",
        "\n",
        "#     for title in titles:\n",
        "#         p_tag = title.find('p')\n",
        "\n",
        "#         if p_tag:\n",
        "#             paragraphs.append(p_tag.get_text())\n",
        "\n",
        "#             for link in p_tag.find_all('a', href=True):\n",
        "#                 paragraphs.append(f\"Link: {link['href']}\")\n",
        "\n",
        "#     body_content = '\\n'.join(paragraphs)\n",
        "\n",
        "#     print(body_content)\n",
        "\n"
      ],
      "metadata": {
        "id": "E3cMoYj3MPma"
      },
      "execution_count": null,
      "outputs": []
    },
    {
      "cell_type": "code",
      "source": [
        "WebScrapping(\"/content/output1.xlsx\")"
      ],
      "metadata": {
        "id": "Eh15_ZQzLPSQ"
      },
      "execution_count": null,
      "outputs": []
    },
    {
      "cell_type": "code",
      "source": [
        "\n",
        "excel_file = '/content/New Microsoft Excel Worksheet.xlsx'\n",
        "df = pd.read_excel(excel_file)\n",
        "\n",
        "dates = []\n",
        "bodies = []\n",
        "processed_count = 0\n",
        "\n",
        "links = df['Link'].tolist()\n",
        "\n",
        "for link in links:\n",
        "    date, body = WebScrapping(link)\n",
        "    dates.append(date)\n",
        "    bodies.append(body)\n",
        "\n",
        "    processed_count += 1\n",
        "    print(f\"Processed {processed_count} URLs\")\n",
        "\n",
        "\n",
        "df['Date'] = dates\n",
        "df['Body'] = bodies\n",
        "\n",
        "df.to_excel(excel_file, index=False)"
      ],
      "metadata": {
        "id": "bKdqawZAzYWg"
      },
      "execution_count": null,
      "outputs": []
    },
    {
      "cell_type": "code",
      "source": [
        "\n",
        "excel_file_path = '/content/New Microsoft Excel Worksheet.xlsx'\n",
        "df = pd.read_excel(excel_file_path)\n",
        "\n",
        "print(df.head())\n"
      ],
      "metadata": {
        "colab": {
          "base_uri": "https://localhost:8080/"
        },
        "id": "sYv82HR0fmNF",
        "outputId": "4e8b2e3a-baec-4f10-a417-269c049ae54f"
      },
      "execution_count": null,
      "outputs": [
        {
          "output_type": "stream",
          "name": "stdout",
          "text": [
            "   Unnamed: 0                                              Title  \\\n",
            "0         NaN  Cyclone Mocha makes landfall in Myanmar; regio...   \n",
            "1         NaN  Cyclone Mocha forming in the Bay of Bengal, wi...   \n",
            "2         NaN  Million stranded as heavy flooding sweeps thro...   \n",
            "3         NaN  How a devastating cyclone led to a genocide an...   \n",
            "4         NaN  Deadly South Asia floods leave families trappe...   \n",
            "\n",
            "                                                Link  \\\n",
            "0  https://www.washingtonpost.com/world/2023/05/1...   \n",
            "1  https://www.washingtonpost.com/weather/2023/05...   \n",
            "2  https://www.washingtonpost.com/world/interacti...   \n",
            "3  https://www.washingtonpost.com/outlook/2022/04...   \n",
            "4  https://www.washingtonpost.com/world/2022/06/2...   \n",
            "\n",
            "                              Date  \\\n",
            "0    May 14, 2023 at 1:19 p.m. EDT   \n",
            "1    May 11, 2023 at 1:45 p.m. EDT   \n",
            "2                          No Date   \n",
            "3  April 15, 2022 at 8:00 a.m. EDT   \n",
            "4  June 21, 2022 at 10:46 a.m. EDT   \n",
            "\n",
            "                                                Body  Word Count  \n",
            "0  A severe cyclonic storm in the Bay of Bengal m...         621  \n",
            "1  An area of disturbed weather has developed int...         912  \n",
            "2                                    No Body Content           3  \n",
            "3  In 2021, so many large storms formed in the No...        1237  \n",
            "4  When the floodwaters came, they swept away eve...         884  \n"
          ]
        }
      ]
    },
    {
      "cell_type": "code",
      "source": [
        "# Add a new column 'Word Count' to store the word count\n",
        "df['Word Count'] = 0\n",
        "\n",
        "# Iterate over rows and count words for each body\n",
        "for index, row in df.iterrows():\n",
        "    body = row['Body']\n",
        "    word_count = count_words(str(body))  # Ensure body is converted to string\n",
        "    df.at[index, 'Word Count'] = word_count\n",
        "\n",
        "# Save the updated DataFrame to the same Excel file\n",
        "df.to_excel(excel_file_path, index=False)\n",
        "\n",
        "print(f\"Word count added to {excel_file_path}\")"
      ],
      "metadata": {
        "colab": {
          "base_uri": "https://localhost:8080/"
        },
        "id": "YUrbIDln9eBl",
        "outputId": "35653656-e801-42d5-8116-c03939e0e9ab"
      },
      "execution_count": null,
      "outputs": [
        {
          "output_type": "stream",
          "name": "stdout",
          "text": [
            "Word count added to /content/New Microsoft Excel Worksheet.xlsx\n"
          ]
        }
      ]
    },
    {
      "cell_type": "code",
      "source": [
        "## Batch\n",
        "\n",
        "excel_file = '/content/output.xlsx'\n",
        "df = pd.read_excel(excel_file)\n",
        "\n",
        "batch_size = 500\n",
        "link_batches = [df['Link'].tolist()[i:i+batch_size] for i in range(0, len(df['Link'].tolist()), batch_size)]\n",
        "dates = []\n",
        "bodies = []\n",
        "processed_count = 0\n",
        "\n",
        "for link_batch in link_batches:\n",
        "    for link in link_batch:\n",
        "        date, body = WebScrapping(link)\n",
        "        dates.append(date)\n",
        "        bodies.append(body)\n",
        "\n",
        "        processed_count += 1\n",
        "        print(f\"Processed {processed_count} URLs\")\n",
        "\n",
        "df['Date'] = dates\n",
        "df['Body'] = bodies\n",
        "\n",
        "\n",
        "df.to_excel(excel_file, index=False)\n"
      ],
      "metadata": {
        "id": "wEqCOcLUmh2C"
      },
      "execution_count": null,
      "outputs": []
    },
    {
      "cell_type": "code",
      "source": [
        "\n",
        "original_excel_file = '/content/output.xlsx'\n",
        "df_original = pd.read_excel(original_excel_file)\n",
        "\n",
        "batch_size = 500\n",
        "data_batches = [df_original.iloc[i:i+batch_size] for i in range(0, len(df_original), batch_size)]\n",
        "\n",
        "for i, data_batch in enumerate(data_batches, start=1):\n",
        "    new_excel_file = f'batch_{i}.xlsx'\n",
        "    data_batch.to_excel(new_excel_file, index=False)\n",
        "\n",
        "    print(f\"Saved {new_excel_file}\")\n",
        "\n",
        "print(\"All batches saved.\")\n"
      ],
      "metadata": {
        "colab": {
          "base_uri": "https://localhost:8080/"
        },
        "id": "xXGBNDe4IhJi",
        "outputId": "cc8f0882-7a55-4b82-c599-2ef3e0a581eb"
      },
      "execution_count": null,
      "outputs": [
        {
          "output_type": "stream",
          "name": "stdout",
          "text": [
            "Saved batch_1.xlsx\n",
            "Saved batch_2.xlsx\n",
            "Saved batch_3.xlsx\n",
            "Saved batch_4.xlsx\n",
            "Saved batch_5.xlsx\n",
            "Saved batch_6.xlsx\n",
            "Saved batch_7.xlsx\n",
            "Saved batch_8.xlsx\n",
            "Saved batch_9.xlsx\n",
            "Saved batch_10.xlsx\n",
            "Saved batch_11.xlsx\n",
            "Saved batch_12.xlsx\n",
            "Saved batch_13.xlsx\n",
            "Saved batch_14.xlsx\n",
            "All batches saved.\n"
          ]
        }
      ]
    }
  ]
}